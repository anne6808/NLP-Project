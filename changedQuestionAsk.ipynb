{
 "cells": [
  {
   "cell_type": "code",
   "execution_count": 2,
   "metadata": {},
   "outputs": [],
   "source": [
    "import json\n",
    "from tqdm.notebook import tqdm\n",
    "import random"
   ]
  },
  {
   "cell_type": "code",
   "execution_count": 3,
   "metadata": {},
   "outputs": [],
   "source": [
    "def load_squad_dataset(path):\n",
    "    with open(path, 'r') as file:\n",
    "        squad_data = json.load(file)\n",
    "    return squad_data"
   ]
  },
  {
   "cell_type": "code",
   "execution_count": 4,
   "metadata": {},
   "outputs": [],
   "source": [
    "import random\n",
    "\n",
    "def paraphrase_question(question):\n",
    "    transformations = [\n",
    "        {\n",
    "            'condition': lambda q: q.startswith('What'),\n",
    "            'options': [\n",
    "                lambda q: q.replace('What is', 'What exactly is'),\n",
    "                lambda q: q.replace('What', 'Could you tell me what'),\n",
    "                lambda q: q.replace('What are', 'What exactly are')\n",
    "            ]\n",
    "        },\n",
    "        {\n",
    "            'condition': lambda q: q.startswith('Where'),\n",
    "            'options': [\n",
    "                lambda q: q.replace('Where', 'Where exactly'),\n",
    "                lambda q: q.replace('Where', 'Could you specify where'),\n",
    "                lambda q: q.replace('Where can', 'Where is it possible to')\n",
    "            ]\n",
    "        },\n",
    "        {\n",
    "            'condition': lambda q: q.startswith('When'),\n",
    "            'options': [\n",
    "                lambda q: q.replace('When', 'When exactly'),\n",
    "                lambda q: q.replace('When did', 'On what date did'),\n",
    "                lambda q: q.replace('When', 'Can you specify when')\n",
    "            ]\n",
    "        },\n",
    "        {\n",
    "            'condition': lambda q: q.startswith('Who'),\n",
    "            'options': [\n",
    "                lambda q: q.replace('Who', 'Who exactly'),\n",
    "                lambda q: q.replace('Who was', 'Who was the person who was'),\n",
    "                lambda q: q.replace('Who', 'Can you tell me who')\n",
    "            ]\n",
    "        },\n",
    "        {\n",
    "            'condition': lambda q: q.startswith('Why'),\n",
    "            'options': [\n",
    "                lambda q: q.replace('Why', 'Can you explain why'),\n",
    "                lambda q: q.replace('Why', 'What are the reasons why'),\n",
    "                lambda q: q.replace('Why did', 'What prompted')\n",
    "            ]\n",
    "        },\n",
    "        {\n",
    "            'condition': lambda q: q.startswith('How'),\n",
    "            'options': [\n",
    "                lambda q: q.replace('How', 'How exactly'),\n",
    "                lambda q: q.replace('How can', 'In what way can'),\n",
    "                lambda q: q.replace('How do', 'What methods do')\n",
    "            ]\n",
    "        },\n",
    "        {\n",
    "            'condition': lambda q: 'do you' in q.lower(),\n",
    "            'options': [\n",
    "                lambda q: q.replace('do you', 'does one'),\n",
    "                lambda q: q.replace('Do you', 'Does someone'),\n",
    "            ]\n",
    "        }\n",
    "    ]\n",
    "    \n",
    "    for rule in transformations:\n",
    "        if rule['condition'](question):\n",
    "            question = random.choice(rule['options'])(question)\n",
    "            break  \n",
    "\n",
    "    return question\n"
   ]
  },
  {
   "cell_type": "code",
   "execution_count": 5,
   "metadata": {},
   "outputs": [],
   "source": [
    "def modify_questions(squad_data):\n",
    "    for article in tqdm(squad_data['data']):\n",
    "        for paragraph in article['paragraphs']:\n",
    "            for qa in paragraph['qas']:\n",
    "                original_question = qa['question']\n",
    "                qa['question'] = paraphrase_question(original_question)\n",
    "    return squad_data"
   ]
  },
  {
   "cell_type": "code",
   "execution_count": 6,
   "metadata": {},
   "outputs": [],
   "source": [
    "def save_modified_dataset(dataset, output_path):\n",
    "    with open(output_path, 'w') as file:\n",
    "        json.dump(dataset, file, indent=4)"
   ]
  },
  {
   "cell_type": "markdown",
   "metadata": {},
   "source": [
    "def save_modified_dataset(dataset, output_path):\n",
    "    with open(output_path, 'w') as file:\n",
    "        json.dump(dataset, file, indent=4)"
   ]
  },
  {
   "cell_type": "code",
   "execution_count": 8,
   "metadata": {},
   "outputs": [
    {
     "data": {
      "application/vnd.jupyter.widget-view+json": {
       "model_id": "f35c8ce72c694623b2d98c4a81dcbb14",
       "version_major": 2,
       "version_minor": 0
      },
      "text/plain": [
       "  0%|          | 0/442 [00:00<?, ?it/s]"
      ]
     },
     "metadata": {},
     "output_type": "display_data"
    }
   ],
   "source": [
    "squad_path = 'train-v2.0.json'  \n",
    "squad_data = load_squad_dataset(squad_path)\n",
    "\n",
    "modified_data = modify_questions(squad_data)\n",
    "\n",
    "output_path = 'changedHowQuestionsAreAsked.json'\n",
    "save_modified_dataset(modified_data, output_path)"
   ]
  }
 ],
 "metadata": {
  "kernelspec": {
   "display_name": "Python 3",
   "language": "python",
   "name": "python3"
  },
  "language_info": {
   "codemirror_mode": {
    "name": "ipython",
    "version": 3
   },
   "file_extension": ".py",
   "mimetype": "text/x-python",
   "name": "python",
   "nbconvert_exporter": "python",
   "pygments_lexer": "ipython3",
   "version": "3.11.2"
  }
 },
 "nbformat": 4,
 "nbformat_minor": 2
}
