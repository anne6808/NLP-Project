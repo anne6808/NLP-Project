{
 "cells": [
  {
   "cell_type": "markdown",
   "metadata": {},
   "source": [
    "## Testing effects of finetuning on DistilBERT with SQUAD\n",
    "Caleb Lehman"
   ]
  },
  {
   "cell_type": "code",
   "execution_count": null,
   "metadata": {},
   "outputs": [],
   "source": [
    "%pip install transformers datasets evaluate\n"
   ]
  },
  {
   "cell_type": "code",
   "execution_count": 1,
   "metadata": {},
   "outputs": [],
   "source": [
    "from datasets import load_dataset, Dataset\n",
    "from transformers import AutoTokenizer, AutoModelForQuestionAnswering, TrainingArguments, Trainer, DefaultDataCollator,pipeline\n",
    "from tqdm.auto import tqdm\n",
    "import numpy as np\n",
    "from evaluate import load\n",
    "import random\n"
   ]
  },
  {
   "cell_type": "code",
   "execution_count": 2,
   "metadata": {},
   "outputs": [],
   "source": [
    "##load in squad from hugging face\n",
    "\n",
    "\n",
    "squad_raw = load_dataset(\"squad\",split=\"validation\")\n",
    "squad_for_columns = load_dataset(\"squad\",split=\"train\")\n",
    "squad_for_columns = squad_for_columns.train_test_split(test_size=0.2)\n",
    "\n",
    "cols = squad_for_columns[\"train\"].column_names\n"
   ]
  },
  {
   "cell_type": "code",
   "execution_count": 17,
   "metadata": {},
   "outputs": [],
   "source": [
    "squad_test = squad_raw.select(random.choices([i for i  in range(len(squad_raw))],k=1000)) ## get test set same as homework 3"
   ]
  },
  {
   "cell_type": "code",
   "execution_count": 4,
   "metadata": {},
   "outputs": [],
   "source": [
    "tokenizer = AutoTokenizer.from_pretrained(\"distilbert/distilbert-base-cased-distilled-squad\")\n"
   ]
  },
  {
   "cell_type": "code",
   "execution_count": 5,
   "metadata": {},
   "outputs": [],
   "source": [
    "## preprocess function from hugging face to allow training and validation sets to be used by pytorch trainer\n",
    "def preprocess_function(examples):\n",
    "    questions = [q.strip() for q in examples[\"question\"]]\n",
    "    inputs = tokenizer(\n",
    "        questions,\n",
    "        examples[\"context\"],\n",
    "        max_length=384,\n",
    "        truncation=\"only_second\",\n",
    "        return_offsets_mapping=True,\n",
    "        padding=\"max_length\",\n",
    "    )\n",
    "\n",
    "    offset_mapping = inputs.pop(\"offset_mapping\")\n",
    "    answers = examples[\"answers\"]\n",
    "    start_positions = []\n",
    "    end_positions = []\n",
    "\n",
    "    for i, offset in enumerate(offset_mapping):\n",
    "        answer = answers[i]\n",
    "        start_char = answer[\"answer_start\"][0]\n",
    "        end_char = answer[\"answer_start\"][0] + len(answer[\"text\"][0])\n",
    "        sequence_ids = inputs.sequence_ids(i)\n",
    "\n",
    "        # Find the start and end of the context\n",
    "        idx = 0\n",
    "        while sequence_ids[idx] != 1:\n",
    "            idx += 1\n",
    "        context_start = idx\n",
    "        while sequence_ids[idx] == 1:\n",
    "            idx += 1\n",
    "        context_end = idx - 1\n",
    "\n",
    "        # If the answer is not fully inside the context, label it (0, 0)\n",
    "        if offset[context_start][0] > end_char or offset[context_end][1] < start_char:\n",
    "            start_positions.append(0)\n",
    "            end_positions.append(0)\n",
    "        else:\n",
    "            # Otherwise it's the start and end token positions\n",
    "            idx = context_start\n",
    "            while idx <= context_end and offset[idx][0] <= start_char:\n",
    "                idx += 1\n",
    "            start_positions.append(idx - 1)\n",
    "\n",
    "            idx = context_end\n",
    "            while idx >= context_start and offset[idx][1] >= end_char:\n",
    "                idx -= 1\n",
    "            end_positions.append(idx + 1)\n",
    "\n",
    "    inputs[\"start_positions\"] = start_positions\n",
    "    inputs[\"end_positions\"] = end_positions\n",
    "    return inputs\n",
    "\n",
    "\n"
   ]
  },
  {
   "cell_type": "code",
   "execution_count": 6,
   "metadata": {},
   "outputs": [],
   "source": [
    "## same evaluation function from hw 3\n",
    "\n",
    "squad_evaluate = load('squad')\n",
    "\n",
    "def evaluate_hf_model(model_name,model,tokenizer):\n",
    "\n",
    "    processor = pipeline('question-answering', model=model, tokenizer=tokenizer)\n",
    "\n",
    "    def dataset_generator(dataset):\n",
    "        for ex in dataset:\n",
    "            yield (ex,\n",
    "                {'question' : ex['question'], 'context': ex['context']})\n",
    "            \n",
    "    predictions = []\n",
    "    references = []\n",
    "\n",
    "    # Get predictions, and save corresponding reference (if we were using the whole dataset, we wouldn't need this step)\n",
    "    for ex in tqdm(dataset_generator(squad_test), total=len(squad_test)):\n",
    "\n",
    "        predictions.append({\n",
    "                'id' : ex[0]['id'],\n",
    "                'prediction_text' : processor(ex[1])['answer']\n",
    "        }\n",
    "        )\n",
    "\n",
    "        # In each example, there are multiple possible answers which we compare to. Here we are converting from them from the datasets format to the one expected by the evaluation metric. \n",
    "        references.append({\n",
    "            'id' : ex[0]['id'],\n",
    "            'answers' : [{'text' : z[0], 'answer_start' : z[1]} for z in zip(ex[0]['answers']['text'], ex[0]['answers']['answer_start'])]\n",
    "        })\n",
    "\n",
    "    # Compute metrics\n",
    "    print('Performance of {} : {}'.format(model_name, squad_evaluate.compute(predictions=predictions, references=references)))\n",
    "\n"
   ]
  },
  {
   "cell_type": "code",
   "execution_count": 7,
   "metadata": {},
   "outputs": [
    {
     "data": {
      "application/vnd.jupyter.widget-view+json": {
       "model_id": "9c8f4f9211284202a3a19951a6809e4e",
       "version_major": 2,
       "version_minor": 0
      },
      "text/plain": [
       "Generating train split: 0 examples [00:00, ? examples/s]"
      ]
     },
     "metadata": {},
     "output_type": "display_data"
    },
    {
     "data": {
      "application/vnd.jupyter.widget-view+json": {
       "model_id": "923bbf9be55e49fd88f0b7f13ffaf4cf",
       "version_major": 2,
       "version_minor": 0
      },
      "text/plain": [
       "Generating train split: 0 examples [00:00, ? examples/s]"
      ]
     },
     "metadata": {},
     "output_type": "display_data"
    },
    {
     "data": {
      "application/vnd.jupyter.widget-view+json": {
       "model_id": "7e5cca26b48745259da6ae1fe45ecd19",
       "version_major": 2,
       "version_minor": 0
      },
      "text/plain": [
       "Generating train split: 0 examples [00:00, ? examples/s]"
      ]
     },
     "metadata": {},
     "output_type": "display_data"
    }
   ],
   "source": [
    "# now load in new trainging data\n",
    "import json\n",
    "\n",
    "## this will allow us to change the raw json datasat into one the model better understands\n",
    "## every entry has one line with sections for column, ie idx, title etc...\n",
    "def process_file(input_filename,output_filename):\n",
    "    \n",
    "    with open(input_filename) as f:\n",
    "        dataset = json.load(f)\n",
    "\n",
    "    with open(output_filename, \"w\") as f:\n",
    "        for article in dataset[\"data\"]:\n",
    "            title = article[\"title\"]\n",
    "            for paragraph in article[\"paragraphs\"]:\n",
    "                context = paragraph[\"context\"]\n",
    "                answers = {}\n",
    "                for qa in paragraph[\"qas\"]:\n",
    "                    question = qa[\"question\"]\n",
    "                    idx = qa[\"id\"]\n",
    "                    answers[\"text\"] = [a[\"text\"] for a in qa[\"answers\"]]\n",
    "                    answers[\"answer_start\"] = [a[\"answer_start\"] for a in qa[\"answers\"]]\n",
    "                    f.write(\n",
    "                        json.dumps(\n",
    "                            {\n",
    "                                \"id\": idx,\n",
    "                                \"title\": title,\n",
    "                                \"context\": context,\n",
    "                                \"question\": question,\n",
    "                                \"answers\": answers,\n",
    "                            }\n",
    "                        )\n",
    "                    )\n",
    "                    f.write(\"\\n\")\n",
    "        \n",
    "        return load_dataset(\"json\",data_files=output_filename)\n",
    "\n",
    "\n",
    "## load in three of our datasets that were jsons. prompting, entity swap, and squad 2.0\n",
    "changed_qa_dataset_raw = process_file(\"content/changedHowQuestionsAreAsked.json\",\"content/changedHowQuestionsAreAsked.jsonl\")\n",
    "modified_dataset_raw = process_file(\"content/modified_squad_data.json\",\"content/modified_squad_data.jsonl\")\n",
    "squad_2_raw = process_file(\"content/train-v2.0.json\",\"content/train-v2.0.jsonl\")\n",
    "\n",
    "\n"
   ]
  },
  {
   "cell_type": "code",
   "execution_count": 8,
   "metadata": {},
   "outputs": [],
   "source": [
    "import pandas as pd\n",
    "\n",
    "## this takes a csv file and puts out a usable json (the pandas.dataFrame.to_json was not working correctly)\n",
    "## also manually finds the answer start index using str.find(other_str)\n",
    "\n",
    "def convert_to_squad_format(input_csv, output_json):\n",
    "    # Read the CSV file\n",
    "    data = pd.read_csv(input_csv)\n",
    "    \n",
    "    squad_data = {\"data\": []}\n",
    "    i=0\n",
    "    for index, row in data.iterrows():\n",
    "        # Constructing a single SQuAD data entry\n",
    "        squad_entry = {\n",
    "            \"paragraphs\": [\n",
    "                {\n",
    "                    \"context\": row['context'],\n",
    "                    \"qas\": [\n",
    "                        {\n",
    "                            \"question\": row['question'],\n",
    "                            \"id\": i,\n",
    "                            \"answers\": [\n",
    "                                {\n",
    "                                    \"text\": row['answer'],\n",
    "                                    \"answer_start\": row['context'].find(row['answer'])\n",
    "                                }\n",
    "                            ]\n",
    "                        }\n",
    "                    ]\n",
    "                }\n",
    "            ]\n",
    "        }\n",
    "        i+=1\n",
    "        squad_data[\"data\"].append(squad_entry)\n",
    "    \n",
    "    # Write the SQuAD format to a JSON file\n",
    "    with open(output_json, 'w') as f:\n",
    "        json.dump(squad_data, f)"
   ]
  },
  {
   "cell_type": "code",
   "execution_count": 9,
   "metadata": {},
   "outputs": [],
   "source": [
    "##load in final two datasets, answer in first half and synonym replacement\n",
    "\n",
    "convert_to_squad_format(\"content/answer_in_first_half.csv\",\"content/answer_in_first_half_fixed.json\")\n",
    "convert_to_squad_format(\"content/replaced_with_synonyms.csv\",\"content/replaced_synonyms.json\")\n"
   ]
  },
  {
   "cell_type": "code",
   "execution_count": 10,
   "metadata": {},
   "outputs": [],
   "source": [
    "## this is gonna be used for the json outputted above, it is different in that there is no title for these datasets, which isn't used by the model\n",
    "## instead of making a whole new function, could have sent the function a boolean if it needed a title or not, but this still works and hindsight is 20/20\n",
    "\n",
    "def process_file_no_title(input_filename,output_filename):\n",
    "    \n",
    "    with open(input_filename) as f:\n",
    "        dataset = json.load(f)\n",
    "\n",
    "    with open(output_filename, \"w\") as f:\n",
    "        for article in dataset[\"data\"]:\n",
    "            \n",
    "            for paragraph in article[\"paragraphs\"]:\n",
    "                context = paragraph[\"context\"]\n",
    "                answers = {}\n",
    "                for qa in paragraph[\"qas\"]:\n",
    "                    question = qa[\"question\"]\n",
    "                    idx = qa[\"id\"]\n",
    "                    answers[\"text\"] = [a[\"text\"] for a in qa[\"answers\"]]\n",
    "                    answers[\"answer_start\"] = [a[\"answer_start\"] for a in qa[\"answers\"]]\n",
    "                    f.write(\n",
    "                        json.dumps(\n",
    "                            {\n",
    "                                \"id\": idx,\n",
    "                                \n",
    "                                \"context\": context,\n",
    "                                \"question\": question,\n",
    "                                \"answers\": answers,\n",
    "                            }\n",
    "                        )\n",
    "                    )\n",
    "                    f.write(\"\\n\")\n",
    "        \n",
    "        return load_dataset(\"json\",data_files=output_filename)"
   ]
  },
  {
   "cell_type": "code",
   "execution_count": 11,
   "metadata": {},
   "outputs": [
    {
     "data": {
      "application/vnd.jupyter.widget-view+json": {
       "model_id": "4152ca6f4cd54cbda013863e9ac5abb3",
       "version_major": 2,
       "version_minor": 0
      },
      "text/plain": [
       "Generating train split: 0 examples [00:00, ? examples/s]"
      ]
     },
     "metadata": {},
     "output_type": "display_data"
    },
    {
     "data": {
      "application/vnd.jupyter.widget-view+json": {
       "model_id": "a36084bbf96e4b35ba501e175c3978cc",
       "version_major": 2,
       "version_minor": 0
      },
      "text/plain": [
       "Generating train split: 0 examples [00:00, ? examples/s]"
      ]
     },
     "metadata": {},
     "output_type": "display_data"
    }
   ],
   "source": [
    "## load in final two datasets to usable json\n",
    "answers_in_first_raw = process_file_no_title(\"content/answer_in_first_half_fixed.json\",\"content/answer_in_first_half.jsonl\")\n",
    "with_synonyms_raw = process_file_no_title(\"content/replaced_synonyms.json\", \"content/replaced_synonyms.jsonl\")"
   ]
  },
  {
   "cell_type": "code",
   "execution_count": 12,
   "metadata": {},
   "outputs": [],
   "source": [
    "##take our usable json we made from the function above, and get our training and validation sets\n",
    "## 20% split, 100 for training, 25 for validation\n",
    "## training sets only has columns train and test, so test will become our validation set\n",
    "## model still does not see actual test set in training or validation, so all good\n",
    "\n",
    "\n",
    "\n",
    "changed_qa_dataset = changed_qa_dataset_raw[\"train\"].select(random.choices([i for i  in range(len(changed_qa_dataset_raw))],k=125))\n",
    "modified_dataset = modified_dataset_raw[\"train\"].select(random.choices([i for i  in range(len(modified_dataset_raw))],k=125))\n",
    "squad_2 = squad_2_raw[\"train\"].select(random.choices([i for i  in range(len(squad_2_raw))],k=125))\n",
    "answers_in_first = answers_in_first_raw[\"train\"]\n",
    "with_synonyms = with_synonyms_raw[\"train\"]\n",
    "\n",
    "\n",
    "## squad 2.0 \n",
    "squad_2_train = squad_2.train_test_split(test_size=0.2)[\"train\"]\n",
    "squad_2_valid = squad_2.train_test_split(test_size=0.2)[\"test\"]\n",
    "\n",
    "## prompting\n",
    "changed_qa_dataset_train = changed_qa_dataset.train_test_split(test_size=0.2)[\"train\"]\n",
    "changed_qa_dataset_valid = changed_qa_dataset.train_test_split(test_size=0.2)[\"test\"]\n",
    "\n",
    "## entity swapping\n",
    "modified_dataset_train = modified_dataset.train_test_split(test_size=0.2)[\"train\"]\n",
    "modified_dataset_valid = modified_dataset.train_test_split(test_size=0.2)[\"test\"]\n",
    "\n",
    "## first half answers only\n",
    "answers_in_first_train = answers_in_first.train_test_split(test_size=0.01)[\"train\"]\n",
    "answers_in_first_valid = answers_in_first.train_test_split(test_size=0.01)[\"test\"]\n",
    "\n",
    "## swapping synonyms\n",
    "with_synonyms_train = with_synonyms.train_test_split(test_size=0.01)[\"train\"]\n",
    "with_synonyms_valid = with_synonyms.train_test_split(test_size=0.01)[\"test\"]\n",
    "\n",
    "\n"
   ]
  },
  {
   "cell_type": "code",
   "execution_count": 13,
   "metadata": {},
   "outputs": [
    {
     "data": {
      "application/vnd.jupyter.widget-view+json": {
       "model_id": "938c5ebfa4064a6e8740233215ead8b0",
       "version_major": 2,
       "version_minor": 0
      },
      "text/plain": [
       "Map:   0%|          | 0/100 [00:00<?, ? examples/s]"
      ]
     },
     "metadata": {},
     "output_type": "display_data"
    },
    {
     "data": {
      "application/vnd.jupyter.widget-view+json": {
       "model_id": "9ebf98ec8af746389166d3d73e1e153f",
       "version_major": 2,
       "version_minor": 0
      },
      "text/plain": [
       "Map:   0%|          | 0/25 [00:00<?, ? examples/s]"
      ]
     },
     "metadata": {},
     "output_type": "display_data"
    },
    {
     "data": {
      "application/vnd.jupyter.widget-view+json": {
       "model_id": "96ac143186d34a6d9dd2a8a65eefb672",
       "version_major": 2,
       "version_minor": 0
      },
      "text/plain": [
       "Map:   0%|          | 0/100 [00:00<?, ? examples/s]"
      ]
     },
     "metadata": {},
     "output_type": "display_data"
    },
    {
     "data": {
      "application/vnd.jupyter.widget-view+json": {
       "model_id": "8bacdb2fd02049fca3f341de73157b52",
       "version_major": 2,
       "version_minor": 0
      },
      "text/plain": [
       "Map:   0%|          | 0/25 [00:00<?, ? examples/s]"
      ]
     },
     "metadata": {},
     "output_type": "display_data"
    },
    {
     "data": {
      "application/vnd.jupyter.widget-view+json": {
       "model_id": "7fa493113d5d4ea9a7360be24d791caf",
       "version_major": 2,
       "version_minor": 0
      },
      "text/plain": [
       "Map:   0%|          | 0/100 [00:00<?, ? examples/s]"
      ]
     },
     "metadata": {},
     "output_type": "display_data"
    },
    {
     "data": {
      "application/vnd.jupyter.widget-view+json": {
       "model_id": "f9f54e1f820e4357affa2eb22b8b27ca",
       "version_major": 2,
       "version_minor": 0
      },
      "text/plain": [
       "Map:   0%|          | 0/25 [00:00<?, ? examples/s]"
      ]
     },
     "metadata": {},
     "output_type": "display_data"
    },
    {
     "data": {
      "application/vnd.jupyter.widget-view+json": {
       "model_id": "235a2fa223cd47abb829c6087b02163f",
       "version_major": 2,
       "version_minor": 0
      },
      "text/plain": [
       "Map:   0%|          | 0/106 [00:00<?, ? examples/s]"
      ]
     },
     "metadata": {},
     "output_type": "display_data"
    },
    {
     "data": {
      "application/vnd.jupyter.widget-view+json": {
       "model_id": "ad83cad6259e481eb00087c5f1182a0c",
       "version_major": 2,
       "version_minor": 0
      },
      "text/plain": [
       "Map:   0%|          | 0/2 [00:00<?, ? examples/s]"
      ]
     },
     "metadata": {},
     "output_type": "display_data"
    },
    {
     "data": {
      "application/vnd.jupyter.widget-view+json": {
       "model_id": "31540c21c85b403c98bc97af046f99e8",
       "version_major": 2,
       "version_minor": 0
      },
      "text/plain": [
       "Map:   0%|          | 0/110 [00:00<?, ? examples/s]"
      ]
     },
     "metadata": {},
     "output_type": "display_data"
    },
    {
     "data": {
      "application/vnd.jupyter.widget-view+json": {
       "model_id": "a12d23b4cd0b49bb8bb4570043abca3a",
       "version_major": 2,
       "version_minor": 0
      },
      "text/plain": [
       "Map:   0%|          | 0/2 [00:00<?, ? examples/s]"
      ]
     },
     "metadata": {},
     "output_type": "display_data"
    }
   ],
   "source": [
    "## tokenize all the training and validation data for pytorch trainer\n",
    "\n",
    "tokenized_train_squad = squad_2_train.map(preprocess_function,batched=True,remove_columns=cols)\n",
    "tokenized_valid_squad = squad_2_valid.map(preprocess_function,batched=True,remove_columns=cols)\n",
    "\n",
    "tokenized_train_qa = changed_qa_dataset_train.map(preprocess_function,batched=True,remove_columns=cols)\n",
    "tokenized_valid_qa = changed_qa_dataset_valid.map(preprocess_function,batched=True,remove_columns=cols)\n",
    "\n",
    "tokenized_train_modify = modified_dataset_train.map(preprocess_function,batched=True,remove_columns=cols)\n",
    "tokenized_valid_modify = modified_dataset_valid.map(preprocess_function,batched=True,remove_columns=cols)\n",
    "\n",
    "tokenized_train_first_half = answers_in_first_train.map(preprocess_function,batched=True,remove_columns=answers_in_first.column_names)\n",
    "tokenized_valid_first_half = answers_in_first_valid.map(preprocess_function,batched=True,remove_columns=answers_in_first.column_names)\n",
    "\n",
    "tokenized_train_synonym = with_synonyms_train.map(preprocess_function,batched=True,remove_columns=answers_in_first.column_names)\n",
    "tokenized_valid_synonym = with_synonyms_valid.map(preprocess_function,batched=True,remove_columns=answers_in_first.column_names)\n"
   ]
  },
  {
   "cell_type": "markdown",
   "metadata": {},
   "source": [
    "## Training\n",
    "\n",
    "A fresh model is loaded in from huggingface and then a new pytorch trainer is loaded in with the same training specifications. Each model is then trained on the modified datasets and then tested using the evaluate hf model function. The final scores are below with a histogram showing both their total scores and their scores relative to the baseline."
   ]
  },
  {
   "cell_type": "code",
   "execution_count": 34,
   "metadata": {},
   "outputs": [
    {
     "data": {
      "application/vnd.jupyter.widget-view+json": {
       "model_id": "15d36d0fa8214e64acd2457c183959c5",
       "version_major": 2,
       "version_minor": 0
      },
      "text/plain": [
       "  0%|          | 0/130 [00:00<?, ?it/s]"
      ]
     },
     "metadata": {},
     "output_type": "display_data"
    },
    {
     "name": "stdout",
     "output_type": "stream",
     "text": [
      "{'train_runtime': 137.055, 'train_samples_per_second': 7.296, 'train_steps_per_second': 0.949, 'train_loss': 0.013755639699789194, 'epoch': 10.0}\n"
     ]
    },
    {
     "data": {
      "text/plain": [
       "TrainOutput(global_step=130, training_loss=0.013755639699789194, metrics={'train_runtime': 137.055, 'train_samples_per_second': 7.296, 'train_steps_per_second': 0.949, 'total_flos': 97989825024000.0, 'train_loss': 0.013755639699789194, 'epoch': 10.0})"
      ]
     },
     "execution_count": 34,
     "metadata": {},
     "output_type": "execute_result"
    }
   ],
   "source": [
    "## baseline model from pretrained and then finetuned on squad 2.0. this was chosen as the baseline as all modified datasets are variations of squad 2.0.\n",
    "\n",
    "model_squad_2 = AutoModelForQuestionAnswering.from_pretrained(\"distilbert/distilbert-base-cased-distilled-squad\")\n",
    "\n",
    "\n",
    "args = TrainingArguments(\n",
    "    \"distilbert-finetuned\",\n",
    "    evaluation_strategy=\"no\",\n",
    "    save_strategy=\"epoch\",\n",
    "    learning_rate=2e-5,\n",
    "    num_train_epochs=10,\n",
    "    weight_decay=0.01,\n",
    ")\n",
    "\n",
    "trainer = Trainer(\n",
    "    model=model_squad_2,\n",
    "    args=args,\n",
    "    train_dataset=tokenized_train_squad,\n",
    "    eval_dataset=tokenized_valid_squad,\n",
    "    tokenizer=tokenizer,\n",
    ")\n",
    "trainer.train()"
   ]
  },
  {
   "cell_type": "code",
   "execution_count": 14,
   "metadata": {},
   "outputs": [
    {
     "data": {
      "application/vnd.jupyter.widget-view+json": {
       "model_id": "ae5ab4b097f044edae1fd805d1b9a1a6",
       "version_major": 2,
       "version_minor": 0
      },
      "text/plain": [
       "Map:   0%|          | 0/125 [00:00<?, ? examples/s]"
      ]
     },
     "metadata": {},
     "output_type": "display_data"
    },
    {
     "data": {
      "application/vnd.jupyter.widget-view+json": {
       "model_id": "0348c6b0fa564e719edfb617e77b0373",
       "version_major": 2,
       "version_minor": 0
      },
      "text/plain": [
       "  0%|          | 0/130 [00:00<?, ?it/s]"
      ]
     },
     "metadata": {},
     "output_type": "display_data"
    },
    {
     "name": "stdout",
     "output_type": "stream",
     "text": [
      "{'train_runtime': 137.7108, 'train_samples_per_second': 7.262, 'train_steps_per_second': 0.944, 'train_loss': 0.013933869508596567, 'epoch': 10.0}\n"
     ]
    },
    {
     "data": {
      "text/plain": [
       "TrainOutput(global_step=130, training_loss=0.013933869508596567, metrics={'train_runtime': 137.7108, 'train_samples_per_second': 7.262, 'train_steps_per_second': 0.944, 'total_flos': 97989825024000.0, 'train_loss': 0.013933869508596567, 'epoch': 10.0})"
      ]
     },
     "execution_count": 14,
     "metadata": {},
     "output_type": "execute_result"
    }
   ],
   "source": [
    "## model trained on prompting\n",
    "\n",
    "\n",
    "model_qa_change = AutoModelForQuestionAnswering.from_pretrained(\"distilbert/distilbert-base-cased-distilled-squad\")\n",
    "\n",
    "\n",
    "args = TrainingArguments(\n",
    "    \"distilbert-finetuned\",\n",
    "    evaluation_strategy=\"no\",\n",
    "    save_strategy=\"epoch\",\n",
    "    learning_rate=2e-5,\n",
    "    num_train_epochs=10,\n",
    "    weight_decay=0.01,\n",
    ")\n",
    "\n",
    "trainer = Trainer(\n",
    "    model=model_qa_change,\n",
    "    args=args,\n",
    "    train_dataset=tokenized_train_qa,\n",
    "    eval_dataset=tokenized_valid_qa,\n",
    "    tokenizer=tokenizer,\n",
    ")\n",
    "trainer.train()\n"
   ]
  },
  {
   "cell_type": "code",
   "execution_count": 24,
   "metadata": {},
   "outputs": [
    {
     "data": {
      "application/vnd.jupyter.widget-view+json": {
       "model_id": "2eae95d7731444aa8c9daf25b172ce35",
       "version_major": 2,
       "version_minor": 0
      },
      "text/plain": [
       "Map:   0%|          | 0/125 [00:00<?, ? examples/s]"
      ]
     },
     "metadata": {},
     "output_type": "display_data"
    },
    {
     "data": {
      "application/vnd.jupyter.widget-view+json": {
       "model_id": "5d2a692f4ba6471bad664a6744b10ed8",
       "version_major": 2,
       "version_minor": 0
      },
      "text/plain": [
       "  0%|          | 0/130 [00:00<?, ?it/s]"
      ]
     },
     "metadata": {},
     "output_type": "display_data"
    },
    {
     "name": "stdout",
     "output_type": "stream",
     "text": [
      "{'train_runtime': 135.798, 'train_samples_per_second': 7.364, 'train_steps_per_second': 0.957, 'train_loss': 0.30575009859525243, 'epoch': 10.0}\n"
     ]
    },
    {
     "data": {
      "text/plain": [
       "TrainOutput(global_step=130, training_loss=0.30575009859525243, metrics={'train_runtime': 135.798, 'train_samples_per_second': 7.364, 'train_steps_per_second': 0.957, 'total_flos': 97989825024000.0, 'train_loss': 0.30575009859525243, 'epoch': 10.0})"
      ]
     },
     "execution_count": 24,
     "metadata": {},
     "output_type": "execute_result"
    }
   ],
   "source": [
    "## model trained on entity swapped data set\n",
    "\n",
    "model_modify = AutoModelForQuestionAnswering.from_pretrained(\"distilbert/distilbert-base-cased-distilled-squad\")\n",
    "\n",
    "\n",
    "args = TrainingArguments(\n",
    "    \"distilbert-finetuned\",\n",
    "    evaluation_strategy=\"no\",\n",
    "    save_strategy=\"epoch\",\n",
    "    learning_rate=2e-5,\n",
    "    num_train_epochs=10,\n",
    "    weight_decay=0.01,\n",
    ")\n",
    "\n",
    "trainer = Trainer(\n",
    "    model=model_modify,\n",
    "    args=args,\n",
    "    train_dataset=tokenized_train_modify,\n",
    "    eval_dataset=tokenized_valid_modify,\n",
    "    tokenizer=tokenizer,\n",
    ")\n",
    "trainer.train()"
   ]
  },
  {
   "cell_type": "code",
   "execution_count": 14,
   "metadata": {},
   "outputs": [
    {
     "data": {
      "application/vnd.jupyter.widget-view+json": {
       "model_id": "f3677d452b51496cb2ace8213da337c8",
       "version_major": 2,
       "version_minor": 0
      },
      "text/plain": [
       "  0%|          | 0/140 [00:00<?, ?it/s]"
      ]
     },
     "metadata": {},
     "output_type": "display_data"
    },
    {
     "name": "stdout",
     "output_type": "stream",
     "text": [
      "{'train_runtime': 144.7666, 'train_samples_per_second': 7.322, 'train_steps_per_second': 0.967, 'train_loss': 0.027193740436008997, 'epoch': 10.0}\n"
     ]
    },
    {
     "data": {
      "text/plain": [
       "TrainOutput(global_step=140, training_loss=0.027193740436008997, metrics={'train_runtime': 144.7666, 'train_samples_per_second': 7.322, 'train_steps_per_second': 0.967, 'total_flos': 103869214525440.0, 'train_loss': 0.027193740436008997, 'epoch': 10.0})"
      ]
     },
     "execution_count": 14,
     "metadata": {},
     "output_type": "execute_result"
    }
   ],
   "source": [
    "## model trained on dataset where answer is in the first half\n",
    "\n",
    "model_first_half = AutoModelForQuestionAnswering.from_pretrained(\"distilbert/distilbert-base-cased-distilled-squad\")\n",
    "\n",
    "args = TrainingArguments(\n",
    "    \"distilbert-finetuned\",\n",
    "    evaluation_strategy=\"no\",\n",
    "    save_strategy=\"epoch\",\n",
    "    learning_rate=2e-5,\n",
    "    num_train_epochs=10,\n",
    "    weight_decay=0.01,\n",
    ")\n",
    "\n",
    "trainer = Trainer(\n",
    "    model=model_first_half,\n",
    "    args=args,\n",
    "    train_dataset=tokenized_train_first_half,\n",
    "    eval_dataset=tokenized_valid_first_half,\n",
    "    tokenizer=tokenizer,\n",
    ")\n",
    "trainer.train()\n"
   ]
  },
  {
   "cell_type": "code",
   "execution_count": 14,
   "metadata": {},
   "outputs": [
    {
     "data": {
      "application/vnd.jupyter.widget-view+json": {
       "model_id": "731590274c7949df8af650eebc2350b8",
       "version_major": 2,
       "version_minor": 0
      },
      "text/plain": [
       "  0%|          | 0/140 [00:00<?, ?it/s]"
      ]
     },
     "metadata": {},
     "output_type": "display_data"
    },
    {
     "name": "stdout",
     "output_type": "stream",
     "text": [
      "{'train_runtime': 147.9196, 'train_samples_per_second': 7.436, 'train_steps_per_second': 0.946, 'train_loss': 1.2371253967285156, 'epoch': 10.0}\n"
     ]
    },
    {
     "data": {
      "text/plain": [
       "TrainOutput(global_step=140, training_loss=1.2371253967285156, metrics={'train_runtime': 147.9196, 'train_samples_per_second': 7.436, 'train_steps_per_second': 0.946, 'total_flos': 107788807526400.0, 'train_loss': 1.2371253967285156, 'epoch': 10.0})"
      ]
     },
     "execution_count": 14,
     "metadata": {},
     "output_type": "execute_result"
    }
   ],
   "source": [
    "## model trained on synonym swapped words\n",
    "\n",
    "model_synonyms = AutoModelForQuestionAnswering.from_pretrained(\"distilbert/distilbert-base-cased-distilled-squad\")\n",
    "\n",
    "args = TrainingArguments(\n",
    "    \"distilbert-finetuned\",\n",
    "    evaluation_strategy=\"no\",\n",
    "    save_strategy=\"epoch\",\n",
    "    learning_rate=2e-5,\n",
    "    num_train_epochs=10,\n",
    "    weight_decay=0.01,\n",
    ")\n",
    "\n",
    "trainer = Trainer(\n",
    "    model=model_synonyms,\n",
    "    args=args,\n",
    "    train_dataset=tokenized_train_synonym,\n",
    "    eval_dataset=tokenized_valid_synonym,\n",
    "    tokenizer=tokenizer,\n",
    ")\n",
    "trainer.train()"
   ]
  },
  {
   "cell_type": "code",
   "execution_count": 50,
   "metadata": {},
   "outputs": [
    {
     "data": {
      "application/vnd.jupyter.widget-view+json": {
       "model_id": "3eb4f90e5e504a61b716142b9edf0ecb",
       "version_major": 2,
       "version_minor": 0
      },
      "text/plain": [
       "  0%|          | 0/1000 [00:00<?, ?it/s]"
      ]
     },
     "metadata": {},
     "output_type": "display_data"
    },
    {
     "name": "stdout",
     "output_type": "stream",
     "text": [
      "Performance of Squad 2.0 : {'exact_match': 70.3, 'f1': 81.33044327048492}\n"
     ]
    }
   ],
   "source": [
    "score1 = evaluate_hf_model(\"Squad 2.0\",model_squad_2,tokenizer) #squad benchmark"
   ]
  },
  {
   "cell_type": "code",
   "execution_count": 15,
   "metadata": {},
   "outputs": [
    {
     "data": {
      "application/vnd.jupyter.widget-view+json": {
       "model_id": "e0ad9c82fc3c45eca96ac919d0b4852b",
       "version_major": 2,
       "version_minor": 0
      },
      "text/plain": [
       "  0%|          | 0/1000 [00:00<?, ?it/s]"
      ]
     },
     "metadata": {},
     "output_type": "display_data"
    },
    {
     "name": "stdout",
     "output_type": "stream",
     "text": [
      "Performance of Changed QA : {'exact_match': 71.9, 'f1': 82.99819386331268}\n"
     ]
    }
   ],
   "source": [
    "score2 = evaluate_hf_model(\"Changed QA\",model_qa_change,tokenizer) #prompting"
   ]
  },
  {
   "cell_type": "code",
   "execution_count": 55,
   "metadata": {},
   "outputs": [
    {
     "data": {
      "application/vnd.jupyter.widget-view+json": {
       "model_id": "0bb38494067b41fbb9d457d6ffa8f049",
       "version_major": 2,
       "version_minor": 0
      },
      "text/plain": [
       "  0%|          | 0/1000 [00:00<?, ?it/s]"
      ]
     },
     "metadata": {},
     "output_type": "display_data"
    },
    {
     "name": "stdout",
     "output_type": "stream",
     "text": [
      "Performance of Modify set : {'exact_match': 68.4, 'f1': 80.13096139058352}\n"
     ]
    }
   ],
   "source": [
    "score3 = evaluate_hf_model(\"Modify set\",model_modify,tokenizer) #entity relation change"
   ]
  },
  {
   "cell_type": "code",
   "execution_count": 19,
   "metadata": {},
   "outputs": [
    {
     "data": {
      "application/vnd.jupyter.widget-view+json": {
       "model_id": "6f7494a6899045da9c5fcccb81a802dc",
       "version_major": 2,
       "version_minor": 0
      },
      "text/plain": [
       "  0%|          | 0/1000 [00:00<?, ?it/s]"
      ]
     },
     "metadata": {},
     "output_type": "display_data"
    },
    {
     "name": "stdout",
     "output_type": "stream",
     "text": [
      "Performance of First half answers : {'exact_match': 73.4, 'f1': 82.41293567192801}\n"
     ]
    }
   ],
   "source": [
    "score4 = evaluate_hf_model(\"First half answers\",model_first_half,tokenizer) # first half answers"
   ]
  },
  {
   "cell_type": "code",
   "execution_count": 54,
   "metadata": {},
   "outputs": [
    {
     "data": {
      "application/vnd.jupyter.widget-view+json": {
       "model_id": "c8425820e5b64ab192dd400ce7b1a096",
       "version_major": 2,
       "version_minor": 0
      },
      "text/plain": [
       "  0%|          | 0/1000 [00:00<?, ?it/s]"
      ]
     },
     "metadata": {},
     "output_type": "display_data"
    },
    {
     "name": "stdout",
     "output_type": "stream",
     "text": [
      "Performance of Synonyms : {'exact_match': 70.0, 'f1': 78.91873135257083}\n"
     ]
    }
   ],
   "source": [
    "score5 = evaluate_hf_model(\"Synonyms\",model_synonyms,tokenizer) # synonym swapped words"
   ]
  },
  {
   "cell_type": "code",
   "execution_count": 16,
   "metadata": {},
   "outputs": [],
   "source": [
    "\n",
    "#these are the original score values to be used. if f1 score above different it is due to rerunning cells\n",
    "y = [81.33044,78.918731,80.13096,82.488933,82.97429]\n",
    "x = [\"Baseline\",\"Synonym\",\"Entity Swap\",\"First Half\",\"Prompting\"]"
   ]
  },
  {
   "cell_type": "code",
   "execution_count": 17,
   "metadata": {},
   "outputs": [
    {
     "data": {
      "text/plain": [
       "(-0.5, 4.5, 75.0, 85.0)"
      ]
     },
     "execution_count": 17,
     "metadata": {},
     "output_type": "execute_result"
    },
    {
     "data": {
      "image/png": "[encoded data removed]",
      "text/plain": [
       "<Figure size 640x480 with 1 Axes>"
      ]
     },
     "metadata": {},
     "output_type": "display_data"
    }
   ],
   "source": [
    "import matplotlib.pyplot as plt\n",
    "\n",
    "plt.bar(x,y,color='tab:blue',width=0.8)\n",
    "plt.xlabel(\"Heuristics Chosen\")\n",
    "plt.ylabel(\"F1 Score\")\n",
    "plt.title(\"Effects of Chosen Heuristics on F1 Score\")\n",
    "plt.axis([-.5,4.5,75,85])"
   ]
  },
  {
   "cell_type": "code",
   "execution_count": 18,
   "metadata": {},
   "outputs": [
    {
     "data": {
      "text/plain": [
       "Text(0.5, 1.0, 'Distances of each Heuristic to the Baseline')"
      ]
     },
     "execution_count": 18,
     "metadata": {},
     "output_type": "execute_result"
    },
    {
     "data": {
      "image/png": "[encoded data removed]",
      "text/plain": [
       "<Figure size 640x480 with 1 Axes>"
      ]
     },
     "metadata": {},
     "output_type": "display_data"
    }
   ],
   "source": [
    "y0 = [78.918731,80.13096,82.488933,82.97429]\n",
    "y1 = np.array(y0)\n",
    "y2 = y1 - y[0]\n",
    "\n",
    "x2 = [\"Synonym\",\"Entity Swap\",\"First Half\",\"Prompting\"]\n",
    "\n",
    "plt.bar(x2,y2,color=\"tab:blue\",width =.8)\n",
    "plt.axhline(y=0,color='r',linestyle='-')\n",
    "plt.xlabel(\"Chosen Heuristics\")\n",
    "plt.ylabel(\"Difference in F1 score from the baseline\")\n",
    "plt.title(\"Distances of each Heuristic to the Baseline\")"
   ]
  }
 ],
 "metadata": {
  "kernelspec": {
   "display_name": "Python 3",
   "language": "python",
   "name": "python3"
  },
  "language_info": {
   "codemirror_mode": {
    "name": "ipython",
    "version": 3
   },
   "file_extension": ".py",
   "mimetype": "text/x-python",
   "name": "python",
   "nbconvert_exporter": "python",
   "pygments_lexer": "ipython3",
   "version": "3.11.9"
  }
 },
 "nbformat": 4,
 "nbformat_minor": 2
}
